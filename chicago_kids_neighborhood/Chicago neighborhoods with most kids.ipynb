{
 "cells": [
  {
   "cell_type": "code",
   "execution_count": 1,
   "metadata": {
    "collapsed": true
   },
   "outputs": [],
   "source": [
    "import agate\n",
    "\n",
    "text_type = agate.Text()"
   ]
  },
  {
   "cell_type": "code",
   "execution_count": 2,
   "metadata": {
    "collapsed": true
   },
   "outputs": [],
   "source": [
    "# Function to create a geoid, needed for \n",
    "def geoid2(row):\n",
    "    geoid_string = str(row['GEOID2'])\n",
    "    i=1\n",
    "    if len(geoid_string) == 8:\n",
    "        i=2\n",
    "    geoid_string = geoid_string[i:]\n",
    "    return '170%s%s' % (row['COUNTY'],geoid_string)"
   ]
  },
  {
   "cell_type": "code",
   "execution_count": 3,
   "metadata": {
    "collapsed": true
   },
   "outputs": [],
   "source": [
    "# Function to add up all people younger than 18 from 2010-14 ACS table B01001\n",
    "def sum_child_2014(row):\n",
    "    total = 0\n",
    "    fields = ['HD01_VD03','HD01_VD04','HD01_VD05','HD01_VD06','HD01_VD27','HD01_VD28','HD01_VD29','HD01_VD30']\n",
    "    for field in fields:\n",
    "        total += row[field]\n",
    "    return total"
   ]
  },
  {
   "cell_type": "code",
   "execution_count": 4,
   "metadata": {
    "collapsed": true
   },
   "outputs": [],
   "source": [
    "# Agate class to calculate the a percentage \n",
    "class PercentOfTotal(agate.Computation):\n",
    "    def __init__(self, total_name, column_name):\n",
    "        self._total = total_name\n",
    "        self._column_name = column_name\n",
    "\n",
    "    def get_computed_data_type(self, table):\n",
    "        return agate.Number()\n",
    "\n",
    "    def run(self, table):\n",
    "        \n",
    "        new_column = []\n",
    "\n",
    "        for row in table.rows:\n",
    "            \n",
    "            total = row[self._total]\n",
    "            column = row[self._column_name]\n",
    "            \n",
    "            if column and total:\n",
    "                v = 100*(column/total)\n",
    "                new_column.append(v)\n",
    "            else:\n",
    "                new_column.append(0)\n",
    "            \n",
    "        return new_column"
   ]
  },
  {
   "cell_type": "code",
   "execution_count": 5,
   "metadata": {
    "collapsed": true
   },
   "outputs": [],
   "source": [
    "# Agate class to sum all columns in a row\n",
    "class SumColumns(agate.Computation):\n",
    "    def __init__(self, columns):\n",
    "        self._columns = columns\n",
    "\n",
    "    def get_computed_data_type(self, table):\n",
    "        return agate.Number()\n",
    "\n",
    "    def run(self, table):\n",
    "        c = self._columns\n",
    "\n",
    "        new_column = []\n",
    "\n",
    "        for row in table.rows:\n",
    "\n",
    "            values = [row[x] for x in c]\n",
    "\n",
    "            new_column.append(sum(values))\n",
    "\n",
    "        return new_column"
   ]
  },
  {
   "cell_type": "code",
   "execution_count": 6,
   "metadata": {
    "collapsed": true
   },
   "outputs": [],
   "source": [
    "# Agate class to compute density\n",
    "class Density(agate.Computation):\n",
    "    def __init__(self, pop, area):\n",
    "        self._pop = pop\n",
    "        self._area = area\n",
    "\n",
    "    def get_computed_data_type(self, table):\n",
    "        return agate.Number()\n",
    "\n",
    "    def run(self, table):\n",
    "\n",
    "        new_column = []\n",
    "\n",
    "        for row in table.rows:\n",
    "\n",
    "            pop = row[self._pop]\n",
    "            area = row[self._area]\n",
    "            \n",
    "            new_column.append(pop/area)\n",
    "\n",
    "        return new_column"
   ]
  },
  {
   "cell_type": "code",
   "execution_count": 7,
   "metadata": {
    "collapsed": true
   },
   "outputs": [],
   "source": [
    "def analyze_2014():\n",
    "\n",
    "    tester = agate.TypeTester(force={\n",
    "        'GEO.id2': agate.Text()\n",
    "    })\n",
    "\n",
    "    age_2014 = agate.Table.from_csv('census_raw/aff_download_2014_age1/ACS_14_5YR_B01001_with_ann.csv',column_types=tester)\n",
    "    age_2014_filter = age_2014.select(('GEO.id2','HD01_VD01','HD01_VD03','HD01_VD04','HD01_VD05','HD01_VD06','HD01_VD27','HD01_VD28','HD01_VD29','HD01_VD30'))\n",
    "    census_lookup = agate.Table.from_csv('census_raw/modified/2010_Tract_to_Community_Area_Equivalency_File_modified.csv')\n",
    "    \n",
    "    families_2014_all = agate.Table.from_csv('census_raw/modified/acs_2014_families_all.csv',column_types=tester)\n",
    "    families_2014_all_filter = families_2014_all.select(('GEO.id2','HD01_VD01','HD01_VD03','HD01_VD07'))\n",
    "    \n",
    "    families_2014 = agate.Table.from_csv('census_raw/modified/acs_2014_families.csv',column_types=tester)\n",
    "    families_2014_filter = families_2014.select(('GEO.id2','HC01_EST_VC02','HC01_EST_VC10'))\n",
    "    \n",
    "    families_2014_all_rename = families_2014_all_filter.rename(column_names = ['GEO.id2','total_households','families_with_children','female_head_households'])\n",
    "            \n",
    "    census_lookup_geoid2 = census_lookup.compute([\n",
    "        ('GEO.id2', agate.Formula(text_type, geoid2)),\n",
    "    ])\n",
    "    \n",
    "    census_all = age_2014_filter.join(families_2014_all_rename, 'GEO.id2', 'GEO.id2', inner=True)\n",
    "    \n",
    "    age_2014_joined = census_all.join(census_lookup_geoid2, 'GEO.id2', 'GEO.id2', inner=True)\n",
    "\n",
    "    age_2014_computed = age_2014_joined.compute([\n",
    "        ('children_2014_total', agate.Formula(agate.Number(), sum_child_2014)),\n",
    "        ('children_2014_0_4', SumColumns(['HD01_VD03','HD01_VD27'])),\n",
    "        ('children_2014_5_9', SumColumns(['HD01_VD04','HD01_VD28'])),\n",
    "        ('children_2014_10_14', SumColumns(['HD01_VD05','HD01_VD29'])),\n",
    "        ('children_2014_15_17', SumColumns(['HD01_VD06','HD01_VD30'])),\n",
    "    ])\n",
    "    \n",
    "    age_2014_group_ca = age_2014_computed.group_by('CHGOCA')\n",
    "\n",
    "    age_2014_group_ca_counts = age_2014_group_ca.aggregate([\n",
    "        ('total_2014', agate.Sum('HD01_VD01')),\n",
    "        ('children_2014_total', agate.Sum('children_2014_total')),\n",
    "        ('children_2014_0_4', agate.Sum('children_2014_0_4')),\n",
    "        ('children_2014_5_9', agate.Sum('children_2014_5_9')),\n",
    "        ('children_2014_10_14', agate.Sum('children_2014_10_14')),\n",
    "        ('children_2014_15_17', agate.Sum('children_2014_15_17')),\n",
    "        ('total_households_2014', agate.Sum('total_households')),\n",
    "        ('total_families_with_kids',agate.Sum('families_with_children')),\n",
    "    ])\n",
    "\n",
    "    age_2014_group_ca_counts.print_table(max_rows=10)\n",
    "\n",
    "    return age_2014_group_ca_counts"
   ]
  },
  {
   "cell_type": "code",
   "execution_count": 8,
   "metadata": {
    "collapsed": false
   },
   "outputs": [
    {
     "name": "stdout",
     "output_type": "stream",
     "text": [
      "|---------+------------+---------------------+-------------------+-------------------+---------------------+------|\n",
      "|  CHGOCA | total_2014 | children_2014_total | children_2014_0_4 | children_2014_5_9 | children_2014_10_14 | ...  |\n",
      "|---------+------------+---------------------+-------------------+-------------------+---------------------+------|\n",
      "|       1 |     55,053 |              10,281 |             3,671 |             2,491 |               2,668 | ...  |\n",
      "|       2 |     73,019 |              18,748 |             5,880 |             5,417 |               4,953 | ...  |\n",
      "|      77 |     55,276 |               6,569 |             2,675 |             1,335 |               1,619 | ...  |\n",
      "|       3 |     54,062 |               6,109 |             2,550 |             1,421 |               1,342 | ...  |\n",
      "|       4 |     39,547 |               6,610 |             2,744 |             1,824 |               1,242 | ...  |\n",
      "|       5 |     34,815 |               6,965 |             3,081 |             1,801 |               1,399 | ...  |\n",
      "|       6 |     97,968 |              10,421 |             5,208 |             2,717 |               1,774 | ...  |\n",
      "|       7 |     65,951 |               9,337 |             3,679 |             2,702 |               2,022 | ...  |\n",
      "|       8 |     84,305 |               6,333 |             3,114 |             1,511 |               1,343 | ...  |\n",
      "|       9 |     10,993 |               2,161 |               415 |               632 |                 738 | ...  |\n",
      "|     ... |        ... |                 ... |               ... |               ... |                 ... | ...  |\n",
      "|---------+------------+---------------------+-------------------+-------------------+---------------------+------|\n"
     ]
    }
   ],
   "source": [
    "a2014 = analyze_2014()"
   ]
  },
  {
   "cell_type": "code",
   "execution_count": 9,
   "metadata": {
    "collapsed": false
   },
   "outputs": [],
   "source": [
    "age_join_percentage = a2014.compute([\n",
    "    ('percent_child_2014', PercentOfTotal('total_2014', 'children_2014_total')),\n",
    "    ('percent_child_2014_0_4', PercentOfTotal('total_2014', 'children_2014_0_4')),\n",
    "    ('percent_child_2014_5_9', PercentOfTotal('total_2014', 'children_2014_5_9')),\n",
    "    ('percent_child_2014_10_14', PercentOfTotal('total_2014', 'children_2014_10_14')),\n",
    "    ('percent_child_2014_15_17', PercentOfTotal('total_2014', 'children_2014_15_17')),\n",
    "    ('percent_child_2014_0_4_total', PercentOfTotal('children_2014_total', 'children_2014_0_4')),\n",
    "    ('percent_child_2014_5_9_total', PercentOfTotal('children_2014_total', 'children_2014_5_9')),\n",
    "    ('percent_child_2014_10_14_total', PercentOfTotal('children_2014_total', 'children_2014_10_14')),\n",
    "    ('percent_child_2014_15_17_total', PercentOfTotal('children_2014_total', 'children_2014_15_17')),\n",
    "    ('percent_families_2014_with_kids', PercentOfTotal('total_households_2014', 'total_families_with_kids')),\n",
    "])"
   ]
  },
  {
   "cell_type": "code",
   "execution_count": 10,
   "metadata": {
    "collapsed": false
   },
   "outputs": [],
   "source": [
    "comm_areas = agate.Table.from_csv('raw_data/CommAreas.csv')\n",
    "comm_areas_filter = comm_areas.select(['area_num_1','community','sq_miles'])\n",
    "\n",
    "age_join_percentage_comm_name = comm_areas_filter.join(age_join_percentage,'area_num_1','CHGOCA')\n",
    "age_join_percentage_density = age_join_percentage_comm_name.compute([\n",
    "    ('density_pop_2014', Density('total_2014', 'sq_miles')),\n",
    "    ('density_households_2014', Density('total_households_2014', 'sq_miles')),\n",
    "    ('density_kids_2014', Density('children_2014_total', 'sq_miles')),\n",
    "    ('density_fam_2014', Density('total_families_with_kids', 'sq_miles')),\n",
    "    ('people_per_households_2014', Density('total_2014', 'total_households_2014')),\n",
    "])\n",
    "\n",
    "age_join_percentage_density.to_csv('census_analysis/age_change_density_2014.csv')"
   ]
  },
  {
   "cell_type": "code",
   "execution_count": 11,
   "metadata": {
    "collapsed": false
   },
   "outputs": [
    {
     "name": "stdout",
     "output_type": "stream",
     "text": [
      "community                            density_fam_2014\n",
      "ALBANY PARK            3,267.271107482545482756879103 ▓░░░░░░░░░░░░░░░░░░░░░░░░░░░░░░░░░░░░░░░░░░░░░░░░░░░░░            \n",
      "ROGERS PARK            2,833.529849415020209974895252 ▓░░░░░░░░░░░░░░░░░░░░░░░░░░░░░░░░░░░░░░░░░░░░░░                   \n",
      "BELMONT CRAGIN         2,699.185338182650751788149598 ▓░░░░░░░░░░░░░░░░░░░░░░░░░░░░░░░░░░░░░░░░░░░░                     \n",
      "HERMOSA                2,647.425515504028430750497247 ▓░░░░░░░░░░░░░░░░░░░░░░░░░░░░░░░░░░░░░░░░░░░                      \n",
      "GAGE PARK              2,495.572701182235489081755708 ▓░░░░░░░░░░░░░░░░░░░░░░░░░░░░░░░░░░░░░░░░░                        \n",
      "WEST RIDGE             2,331.576720260076167105395085 ▓░░░░░░░░░░░░░░░░░░░░░░░░░░░░░░░░░░░░░░                           \n",
      "BRIGHTON PARK          2,318.645517230232463314744741 ▓░░░░░░░░░░░░░░░░░░░░░░░░░░░░░░░░░░░░░░                           \n",
      "AVONDALE               2,298.216537578966528629132491 ▓░░░░░░░░░░░░░░░░░░░░░░░░░░░░░░░░░░░░░                            \n",
      "CHICAGO LAWN           2,235.843792753562755528550693 ▓░░░░░░░░░░░░░░░░░░░░░░░░░░░░░░░░░░░░                             \n",
      "LOGAN SQUARE           2,194.996366748842040505177940 ▓░░░░░░░░░░░░░░░░░░░░░░░░░░░░░░░░░░░░                             \n",
      "EDGEWATER              2,101.381894512009869359872582 ▓░░░░░░░░░░░░░░░░░░░░░░░░░░░░░░░░░░                               \n",
      "WEST ELSDON            2,098.267437906368863824829612 ▓░░░░░░░░░░░░░░░░░░░░░░░░░░░░░░░░░░                               \n",
      "SOUTH SHORE            2,078.287265029843646281572997 ▓░░░░░░░░░░░░░░░░░░░░░░░░░░░░░░░░░░                               \n",
      "IRVING PARK            2,060.748527081234682049275036 ▓░░░░░░░░░░░░░░░░░░░░░░░░░░░░░░░░░                                \n",
      "HUMBOLDT PARK          2,036.481315422655882379054096 ▓░░░░░░░░░░░░░░░░░░░░░░░░░░░░░░░░░                                \n",
      "LAKE VIEW              2,005.497377094560447973261740 ▓░░░░░░░░░░░░░░░░░░░░░░░░░░░░░░░░░                                \n",
      "NORTH CENTER           1,940.350944058182187764013062 ▓░░░░░░░░░░░░░░░░░░░░░░░░░░░░░░░░                                 \n",
      "SOUTH LAWNDALE         1,915.576544979457919063133875 ▓░░░░░░░░░░░░░░░░░░░░░░░░░░░░░░░                                  \n",
      "KENWOOD                1,877.628127981741552831066211 ▓░░░░░░░░░░░░░░░░░░░░░░░░░░░░░░░                                  \n",
      "WEST GARFIELD PARK     1,871.543958110783352759388037 ▓░░░░░░░░░░░░░░░░░░░░░░░░░░░░░░                                   \n",
      "PORTAGE PARK           1,851.879493242790256179193122 ▓░░░░░░░░░░░░░░░░░░░░░░░░░░░░░░                                   \n",
      "AUSTIN                 1,770.468435390844128960730551 ▓░░░░░░░░░░░░░░░░░░░░░░░░░░░░░                                    \n",
      "OAKLAND                1,765.273073404702450119910006 ▓░░░░░░░░░░░░░░░░░░░░░░░░░░░░░                                    \n",
      "MONTCLARE              1,708.508270089883710232953586 ▓░░░░░░░░░░░░░░░░░░░░░░░░░░░░                                     \n",
      "WEST TOWN              1,664.448421986629338963085349 ▓░░░░░░░░░░░░░░░░░░░░░░░░░░░                                      \n",
      "BRIDGEPORT             1,655.251441828744366716867830 ▓░░░░░░░░░░░░░░░░░░░░░░░░░░░                                      \n",
      "GRAND BOULEVARD        1,651.116544567211423978788441 ▓░░░░░░░░░░░░░░░░░░░░░░░░░░░                                      \n",
      "LINCOLN PARK           1,586.216801902828832212985513 ▓░░░░░░░░░░░░░░░░░░░░░░░░░░                                       \n",
      "ARMOUR SQUARE          1,580.360952835161525138683200 ▓░░░░░░░░░░░░░░░░░░░░░░░░░░                                       \n",
      "UPTOWN                 1,570.888035683312740767071309 ▓░░░░░░░░░░░░░░░░░░░░░░░░░░                                       \n",
      "AUBURN GRESHAM         1,537.665099990686446072532684 ▓░░░░░░░░░░░░░░░░░░░░░░░░░                                        \n",
      "WEST LAWN              1,533.535072671883440496773243 ▓░░░░░░░░░░░░░░░░░░░░░░░░░                                        \n",
      "LINCOLN SQUARE         1,525.349757932775991995039488 ▓░░░░░░░░░░░░░░░░░░░░░░░░░                                        \n",
      "NORTH LAWNDALE         1,512.810288106868707008274350 ▓░░░░░░░░░░░░░░░░░░░░░░░░░                                        \n",
      "WOODLAWN               1,466.848359126140279308758560 ▓░░░░░░░░░░░░░░░░░░░░░░░░                                         \n",
      "MCKINLEY PARK          1,457.133342901441649975502343 ▓░░░░░░░░░░░░░░░░░░░░░░░░                                         \n",
      "LOWER WEST SIDE        1,409.803673557292930812278009 ▓░░░░░░░░░░░░░░░░░░░░░░░                                          \n",
      "HYDE PARK              1,394.371707604703037764851820 ▓░░░░░░░░░░░░░░░░░░░░░░░                                          \n",
      "EAST GARFIELD PARK     1,362.275875092806014088405651 ▓░░░░░░░░░░░░░░░░░░░░░░                                           \n",
      "WASHINGTON PARK        1,305.960575122668186010892435 ▓░░░░░░░░░░░░░░░░░░░░░                                            \n",
      "CHATHAM                1,289.263788721938955205279784 ▓░░░░░░░░░░░░░░░░░░░░░                                            \n",
      "NEAR NORTH SIDE        1,282.009795776493990442736956 ▓░░░░░░░░░░░░░░░░░░░░░                                            \n",
      "DUNNING                1,271.003993584430402910687951 ▓░░░░░░░░░░░░░░░░░░░░░                                            \n",
      "WEST ENGLEWOOD         1,234.670041959762119181954228 ▓░░░░░░░░░░░░░░░░░░░░                                             \n",
      "JEFFERSON PARK         1,231.291566834635178838116317 ▓░░░░░░░░░░░░░░░░░░░░                                             \n",
      "GREATER GRAND CROSSING 1,207.038047080124200830825721 ▓░░░░░░░░░░░░░░░░░░░░                                             \n",
      "NEAR SOUTH SIDE        1,193.677040621989200331608075 ▓░░░░░░░░░░░░░░░░░░░                                              \n",
      "CLEARING               1,187.311984445037447349766828 ▓░░░░░░░░░░░░░░░░░░░                                              \n",
      "NEW CITY               1,164.524974650254263592215821 ▓░░░░░░░░░░░░░░░░░░░                                              \n",
      "ASHBURN                1,140.570709312733086902556117 ▓░░░░░░░░░░░░░░░░░░░                                              \n",
      "ENGLEWOOD              1,085.161410436427573124711540 ▓░░░░░░░░░░░░░░░░░░                                               \n",
      "ROSELAND               1,068.735975305121111302759888 ▓░░░░░░░░░░░░░░░░░                                                \n",
      "SOUTH CHICAGO          1,044.929893154722852969457022 ▓░░░░░░░░░░░░░░░░░                                                \n",
      "EAST SIDE              1,030.849804714580529866177074 ▓░░░░░░░░░░░░░░░░░                                                \n",
      "DOUGLAS                1,028.973044905765339606554158 ▓░░░░░░░░░░░░░░░░░                                                \n",
      "NORWOOD PARK           1,002.587388657595833844799198 ▓░░░░░░░░░░░░░░░░                                                 \n",
      "MORGAN PARK              992.521648259552148501386375 ▓░░░░░░░░░░░░░░░░                                                 \n",
      "EDISON PARK              982.554589058659830789119111 ▓░░░░░░░░░░░░░░░░                                                 \n",
      "WASHINGTON HEIGHTS       950.100471199423078269514868 ▓░░░░░░░░░░░░░░░                                                  \n",
      "GARFIELD RIDGE           942.358853088974283180608927 ▓░░░░░░░░░░░░░░░                                                  \n",
      "ARCHER HEIGHTS           911.291641242228098092469182 ▓░░░░░░░░░░░░░░░                                                  \n",
      "WEST PULLMAN             908.469585066757644555523259 ▓░░░░░░░░░░░░░░░                                                  \n",
      "MOUNT GREENWOOD          889.638696775207259628808212 ▓░░░░░░░░░░░░░░                                                   \n",
      "LOOP                     808.635067326089310855203783 ▓░░░░░░░░░░░░░                                                    \n",
      "BEVERLY                  804.202326126181574503175045 ▓░░░░░░░░░░░░░                                                    \n",
      "AVALON PARK              789.492629002455666029419999 ▓░░░░░░░░░░░░░                                                    \n",
      "NEAR WEST SIDE           781.687681998756405960456524 ▓░░░░░░░░░░░░░                                                    \n",
      "CALUMET HEIGHTS          761.105401393171177343839214 ▓░░░░░░░░░░░░                                                     \n",
      "NORTH PARK               758.350682456120171612538329 ▓░░░░░░░░░░░░                                                     \n",
      "FOREST GLEN              729.716736661713267301214745 ▓░░░░░░░░░░░░                                                     \n",
      "FULLER PARK              417.125084334853460318526793 ▓░░░░░░░                                                          \n",
      "RIVERDALE                369.484857637824368886428175 ▓░░░░░░                                                           \n",
      "BURNSIDE                 347.742218037651296569982301 ▓░░░░░░                                                           \n",
      "PULLMAN                  338.784439540916371746228247 ▓░░░░░░                                                           \n",
      "HEGEWISCH                207.800105466193233852852696 ▓░░░                                                              \n",
      "SOUTH DEERING            167.382124304903057394174166 ▓░░░                                                              \n",
      "OHARE                    124.383630004660449934351835 ▓░░                                                               \n",
      "                                                      +---------------+---------------+----------------+---------------+\n",
      "                                                      0             1,000           2,000            3,000         4,000\n"
     ]
    }
   ],
   "source": [
    "sorted_density = age_join_percentage_density.order_by('density_fam_2014', reverse=True)\n",
    "sorted_density.print_bars('community','density_fam_2014')"
   ]
  },
  {
   "cell_type": "code",
   "execution_count": null,
   "metadata": {
    "collapsed": true
   },
   "outputs": [],
   "source": []
  }
 ],
 "metadata": {
  "kernelspec": {
   "display_name": "Python 2",
   "language": "python",
   "name": "python2"
  },
  "language_info": {
   "codemirror_mode": {
    "name": "ipython",
    "version": 2
   },
   "file_extension": ".py",
   "mimetype": "text/x-python",
   "name": "python",
   "nbconvert_exporter": "python",
   "pygments_lexer": "ipython2",
   "version": "2.7.10"
  }
 },
 "nbformat": 4,
 "nbformat_minor": 0
}
